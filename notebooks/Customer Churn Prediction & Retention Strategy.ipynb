version https://git-lfs.github.com/spec/v1
oid sha256:3b1323aa549e8468c6741363113b6e288e1d5da96b6ae145d86e6b26766f3e99
size 299563
